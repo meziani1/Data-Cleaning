{
 "cells": [
  {
   "cell_type": "markdown",
   "id": "8852d3dd",
   "metadata": {
    "papermill": {
     "duration": 0.006152,
     "end_time": "2022-07-27T16:31:12.113453",
     "exception": false,
     "start_time": "2022-07-27T16:31:12.107301",
     "status": "completed"
    },
    "tags": []
   },
   "source": [
    "**This notebook is an exercise in the [Data Cleaning](https://www.kaggle.com/learn/data-cleaning) course.  You can reference the tutorial at [this link](https://www.kaggle.com/alexisbcook/character-encodings).**\n",
    "\n",
    "---\n"
   ]
  },
  {
   "cell_type": "markdown",
   "id": "e5ddd007",
   "metadata": {
    "papermill": {
     "duration": 0.004898,
     "end_time": "2022-07-27T16:31:12.123603",
     "exception": false,
     "start_time": "2022-07-27T16:31:12.118705",
     "status": "completed"
    },
    "tags": []
   },
   "source": [
    "In this exercise, you'll apply what you learned in the **Character encodings** tutorial.\n",
    "\n",
    "# Setup\n",
    "\n",
    "The questions below will give you feedback on your work. Run the following cell to set up the feedback system."
   ]
  },
  {
   "cell_type": "code",
   "execution_count": 1,
   "id": "f190e0b8",
   "metadata": {
    "execution": {
     "iopub.execute_input": "2022-07-27T16:31:12.135754Z",
     "iopub.status.busy": "2022-07-27T16:31:12.134880Z",
     "iopub.status.idle": "2022-07-27T16:31:12.216205Z",
     "shell.execute_reply": "2022-07-27T16:31:12.215089Z"
    },
    "papermill": {
     "duration": 0.090662,
     "end_time": "2022-07-27T16:31:12.219111",
     "exception": false,
     "start_time": "2022-07-27T16:31:12.128449",
     "status": "completed"
    },
    "tags": []
   },
   "outputs": [
    {
     "name": "stdout",
     "output_type": "stream",
     "text": [
      "Setup Complete\n"
     ]
    }
   ],
   "source": [
    "from learntools.core import binder\n",
    "binder.bind(globals())\n",
    "from learntools.data_cleaning.ex4 import *\n",
    "print(\"Setup Complete\")"
   ]
  },
  {
   "cell_type": "markdown",
   "id": "790fac32",
   "metadata": {
    "papermill": {
     "duration": 0.005115,
     "end_time": "2022-07-27T16:31:12.229932",
     "exception": false,
     "start_time": "2022-07-27T16:31:12.224817",
     "status": "completed"
    },
    "tags": []
   },
   "source": [
    "# Get our environment set up\n",
    "\n",
    "The first thing we'll need to do is load in the libraries we'll be using."
   ]
  },
  {
   "cell_type": "code",
   "execution_count": 2,
   "id": "cdb5ffa0",
   "metadata": {
    "execution": {
     "iopub.execute_input": "2022-07-27T16:31:12.242223Z",
     "iopub.status.busy": "2022-07-27T16:31:12.241789Z",
     "iopub.status.idle": "2022-07-27T16:31:12.247265Z",
     "shell.execute_reply": "2022-07-27T16:31:12.246021Z"
    },
    "papermill": {
     "duration": 0.014378,
     "end_time": "2022-07-27T16:31:12.249548",
     "exception": false,
     "start_time": "2022-07-27T16:31:12.235170",
     "status": "completed"
    },
    "tags": []
   },
   "outputs": [],
   "source": [
    "# modules we'll use\n",
    "import pandas as pd\n",
    "import numpy as np\n",
    "\n",
    "# helpful character encoding module\n",
    "import chardet\n",
    "\n",
    "# set seed for reproducibility\n",
    "np.random.seed(0)"
   ]
  },
  {
   "cell_type": "markdown",
   "id": "62c1d669",
   "metadata": {
    "papermill": {
     "duration": 0.00516,
     "end_time": "2022-07-27T16:31:12.260109",
     "exception": false,
     "start_time": "2022-07-27T16:31:12.254949",
     "status": "completed"
    },
    "tags": []
   },
   "source": [
    "# 1) What are encodings?\n",
    "\n",
    "You're working with a dataset composed of bytes.  Run the code cell below to print a sample entry."
   ]
  },
  {
   "cell_type": "code",
   "execution_count": 3,
   "id": "225c225c",
   "metadata": {
    "execution": {
     "iopub.execute_input": "2022-07-27T16:31:12.272561Z",
     "iopub.status.busy": "2022-07-27T16:31:12.271854Z",
     "iopub.status.idle": "2022-07-27T16:31:12.278159Z",
     "shell.execute_reply": "2022-07-27T16:31:12.277030Z"
    },
    "papermill": {
     "duration": 0.015263,
     "end_time": "2022-07-27T16:31:12.280651",
     "exception": false,
     "start_time": "2022-07-27T16:31:12.265388",
     "status": "completed"
    },
    "tags": []
   },
   "outputs": [
    {
     "name": "stdout",
     "output_type": "stream",
     "text": [
      "b'\\xa7A\\xa6n'\n",
      "data type: <class 'bytes'>\n"
     ]
    }
   ],
   "source": [
    "sample_entry = b'\\xa7A\\xa6n'\n",
    "print(sample_entry)\n",
    "print('data type:', type(sample_entry))"
   ]
  },
  {
   "cell_type": "markdown",
   "id": "42bf0a84",
   "metadata": {
    "papermill": {
     "duration": 0.005217,
     "end_time": "2022-07-27T16:31:12.291285",
     "exception": false,
     "start_time": "2022-07-27T16:31:12.286068",
     "status": "completed"
    },
    "tags": []
   },
   "source": [
    "You notice that it doesn't use the standard UTF-8 encoding. \n",
    "\n",
    "Use the next code cell to create a variable `new_entry` that changes the encoding from `\"big5-tw\"` to `\"utf-8\"`.  `new_entry` should have the bytes datatype."
   ]
  },
  {
   "cell_type": "code",
   "execution_count": 4,
   "id": "5a58db04",
   "metadata": {
    "execution": {
     "iopub.execute_input": "2022-07-27T16:31:12.303910Z",
     "iopub.status.busy": "2022-07-27T16:31:12.303196Z",
     "iopub.status.idle": "2022-07-27T16:31:12.315559Z",
     "shell.execute_reply": "2022-07-27T16:31:12.314318Z"
    },
    "papermill": {
     "duration": 0.021112,
     "end_time": "2022-07-27T16:31:12.317631",
     "exception": false,
     "start_time": "2022-07-27T16:31:12.296519",
     "status": "completed"
    },
    "tags": []
   },
   "outputs": [
    {
     "name": "stdout",
     "output_type": "stream",
     "text": [
      "b'\\xe4\\xbd\\xa0\\xe5\\xa5\\xbd'\n"
     ]
    },
    {
     "data": {
      "application/javascript": [
       "parent.postMessage({\"jupyterEvent\": \"custom.exercise_interaction\", \"data\": {\"outcomeType\": 1, \"valueTowardsCompletion\": 0.3333333333333333, \"interactionType\": 1, \"questionType\": 1, \"questionId\": \"1_EncodingsIntro\", \"learnToolsVersion\": \"0.3.4\", \"failureMessage\": \"\", \"exceptionClass\": \"\", \"trace\": \"\"}}, \"*\")"
      ],
      "text/plain": [
       "<IPython.core.display.Javascript object>"
      ]
     },
     "metadata": {},
     "output_type": "display_data"
    },
    {
     "data": {
      "text/markdown": [
       "<span style=\"color:#33cc33\">Correct</span>"
      ],
      "text/plain": [
       "Correct"
      ]
     },
     "metadata": {},
     "output_type": "display_data"
    }
   ],
   "source": [
    "before = sample_entry.decode(\"big5-tw\")\n",
    "new_entry = before.encode(\"utf-8\")\n",
    "print(new_entry )\n",
    "# Check your answer\n",
    "q1.check()"
   ]
  },
  {
   "cell_type": "code",
   "execution_count": 5,
   "id": "07a63f99",
   "metadata": {
    "execution": {
     "iopub.execute_input": "2022-07-27T16:31:12.330885Z",
     "iopub.status.busy": "2022-07-27T16:31:12.330204Z",
     "iopub.status.idle": "2022-07-27T16:31:12.340559Z",
     "shell.execute_reply": "2022-07-27T16:31:12.339728Z"
    },
    "papermill": {
     "duration": 0.01918,
     "end_time": "2022-07-27T16:31:12.342446",
     "exception": false,
     "start_time": "2022-07-27T16:31:12.323266",
     "status": "completed"
    },
    "tags": []
   },
   "outputs": [
    {
     "data": {
      "application/javascript": [
       "parent.postMessage({\"jupyterEvent\": \"custom.exercise_interaction\", \"data\": {\"interactionType\": 2, \"questionType\": 1, \"questionId\": \"1_EncodingsIntro\", \"learnToolsVersion\": \"0.3.4\", \"valueTowardsCompletion\": 0.0, \"failureMessage\": \"\", \"exceptionClass\": \"\", \"trace\": \"\", \"outcomeType\": 4}}, \"*\")"
      ],
      "text/plain": [
       "<IPython.core.display.Javascript object>"
      ]
     },
     "metadata": {},
     "output_type": "display_data"
    },
    {
     "data": {
      "text/markdown": [
       "<span style=\"color:#3366cc\">Hint:</span> Try using `.decode()` to get the string, then `.encode()` to get the bytes representation, encoded in UTF-8."
      ],
      "text/plain": [
       "Hint: Try using `.decode()` to get the string, then `.encode()` to get the bytes representation, encoded in UTF-8."
      ]
     },
     "metadata": {},
     "output_type": "display_data"
    },
    {
     "data": {
      "application/javascript": [
       "parent.postMessage({\"jupyterEvent\": \"custom.exercise_interaction\", \"data\": {\"interactionType\": 3, \"questionType\": 1, \"questionId\": \"1_EncodingsIntro\", \"learnToolsVersion\": \"0.3.4\", \"valueTowardsCompletion\": 0.0, \"failureMessage\": \"\", \"exceptionClass\": \"\", \"trace\": \"\", \"outcomeType\": 4}}, \"*\")"
      ],
      "text/plain": [
       "<IPython.core.display.Javascript object>"
      ]
     },
     "metadata": {},
     "output_type": "display_data"
    },
    {
     "data": {
      "text/markdown": [
       "<span style=\"color:#33cc99\">Solution:</span> \n",
       "```python\n",
       "before = sample_entry.decode(\"big5-tw\")\n",
       "new_entry = before.encode()\n",
       "\n",
       "```"
      ],
      "text/plain": [
       "Solution: \n",
       "```python\n",
       "before = sample_entry.decode(\"big5-tw\")\n",
       "new_entry = before.encode()\n",
       "\n",
       "```"
      ]
     },
     "metadata": {},
     "output_type": "display_data"
    }
   ],
   "source": [
    "# Lines below will give you a hint or solution code\n",
    "q1.hint()\n",
    "q1.solution()"
   ]
  },
  {
   "cell_type": "markdown",
   "id": "7d4b3e87",
   "metadata": {
    "papermill": {
     "duration": 0.005963,
     "end_time": "2022-07-27T16:31:12.354514",
     "exception": false,
     "start_time": "2022-07-27T16:31:12.348551",
     "status": "completed"
    },
    "tags": []
   },
   "source": [
    "# 2) Reading in files with encoding problems\n",
    "\n",
    "Use the code cell below to read in this file at path `\"../input/fatal-police-shootings-in-the-us/PoliceKillingsUS.csv\"`.  \n",
    "\n",
    "Figure out what the correct encoding should be and read in the file to a DataFrame `police_killings`."
   ]
  },
  {
   "cell_type": "code",
   "execution_count": 6,
   "id": "ec331067",
   "metadata": {
    "execution": {
     "iopub.execute_input": "2022-07-27T16:31:12.368725Z",
     "iopub.status.busy": "2022-07-27T16:31:12.367995Z",
     "iopub.status.idle": "2022-07-27T16:31:14.188292Z",
     "shell.execute_reply": "2022-07-27T16:31:14.187147Z"
    },
    "papermill": {
     "duration": 1.830474,
     "end_time": "2022-07-27T16:31:14.191055",
     "exception": false,
     "start_time": "2022-07-27T16:31:12.360581",
     "status": "completed"
    },
    "tags": []
   },
   "outputs": [
    {
     "name": "stdout",
     "output_type": "stream",
     "text": [
      "{'encoding': 'Windows-1252', 'confidence': 0.73, 'language': ''}\n"
     ]
    },
    {
     "data": {
      "application/javascript": [
       "parent.postMessage({\"jupyterEvent\": \"custom.exercise_interaction\", \"data\": {\"outcomeType\": 1, \"valueTowardsCompletion\": 0.3333333333333333, \"interactionType\": 1, \"questionType\": 1, \"questionId\": \"2_ReadIn\", \"learnToolsVersion\": \"0.3.4\", \"failureMessage\": \"\", \"exceptionClass\": \"\", \"trace\": \"\"}}, \"*\")"
      ],
      "text/plain": [
       "<IPython.core.display.Javascript object>"
      ]
     },
     "metadata": {},
     "output_type": "display_data"
    },
    {
     "data": {
      "text/markdown": [
       "<span style=\"color:#33cc33\">Correct</span>"
      ],
      "text/plain": [
       "Correct"
      ]
     },
     "metadata": {},
     "output_type": "display_data"
    }
   ],
   "source": [
    "# TODO: Load in the DataFrame correctly.\n",
    "\n",
    "# look at the first ten thousand bytes to guess the character encoding\n",
    "with open(\"../input/fatal-police-shootings-in-the-us/PoliceKillingsUS.csv\", 'rb') as rawdata:\n",
    "    result = chardet.detect(rawdata.read(100000))\n",
    "\n",
    "# check what the character encoding might be\n",
    "print(result)\n",
    "\n",
    "# read in the file with the encoding detected by chardet\n",
    "police_killings = pd.read_csv(\"../input/fatal-police-shootings-in-the-us/PoliceKillingsUS.csv\", encoding=result['encoding'])\n",
    "\n",
    "# look at the first few lines\n",
    "police_killings.head()\n",
    "# Check your answer\n",
    "q2.check()"
   ]
  },
  {
   "cell_type": "markdown",
   "id": "117a947b",
   "metadata": {
    "papermill": {
     "duration": 0.006229,
     "end_time": "2022-07-27T16:31:14.203972",
     "exception": false,
     "start_time": "2022-07-27T16:31:14.197743",
     "status": "completed"
    },
    "tags": []
   },
   "source": [
    "Feel free to use any additional code cells for supplemental work.  To get credit for finishing this question, you'll need to run `q2.check()` and get a result of **Correct**."
   ]
  },
  {
   "cell_type": "code",
   "execution_count": 7,
   "id": "1c4c369a",
   "metadata": {
    "execution": {
     "iopub.execute_input": "2022-07-27T16:31:14.219069Z",
     "iopub.status.busy": "2022-07-27T16:31:14.218312Z",
     "iopub.status.idle": "2022-07-27T16:31:14.224618Z",
     "shell.execute_reply": "2022-07-27T16:31:14.223722Z"
    },
    "papermill": {
     "duration": 0.016214,
     "end_time": "2022-07-27T16:31:14.226722",
     "exception": false,
     "start_time": "2022-07-27T16:31:14.210508",
     "status": "completed"
    },
    "tags": []
   },
   "outputs": [],
   "source": [
    "# (Optional) Use this code cell for any additional work."
   ]
  },
  {
   "cell_type": "code",
   "execution_count": 8,
   "id": "355d23a6",
   "metadata": {
    "execution": {
     "iopub.execute_input": "2022-07-27T16:31:14.242039Z",
     "iopub.status.busy": "2022-07-27T16:31:14.241314Z",
     "iopub.status.idle": "2022-07-27T16:31:14.252151Z",
     "shell.execute_reply": "2022-07-27T16:31:14.251318Z"
    },
    "papermill": {
     "duration": 0.020716,
     "end_time": "2022-07-27T16:31:14.254087",
     "exception": false,
     "start_time": "2022-07-27T16:31:14.233371",
     "status": "completed"
    },
    "tags": []
   },
   "outputs": [
    {
     "data": {
      "application/javascript": [
       "parent.postMessage({\"jupyterEvent\": \"custom.exercise_interaction\", \"data\": {\"interactionType\": 2, \"questionType\": 1, \"questionId\": \"2_ReadIn\", \"learnToolsVersion\": \"0.3.4\", \"valueTowardsCompletion\": 0.0, \"failureMessage\": \"\", \"exceptionClass\": \"\", \"trace\": \"\", \"outcomeType\": 4}}, \"*\")"
      ],
      "text/plain": [
       "<IPython.core.display.Javascript object>"
      ]
     },
     "metadata": {},
     "output_type": "display_data"
    },
    {
     "data": {
      "text/markdown": [
       "<span style=\"color:#3366cc\">Hint:</span> If you try to guess the encoding with the first 10,000 bytes of the file, it might give you the wrong answer.  Try using 100,000 or more lines of the file."
      ],
      "text/plain": [
       "Hint: If you try to guess the encoding with the first 10,000 bytes of the file, it might give you the wrong answer.  Try using 100,000 or more lines of the file."
      ]
     },
     "metadata": {},
     "output_type": "display_data"
    },
    {
     "data": {
      "application/javascript": [
       "parent.postMessage({\"jupyterEvent\": \"custom.exercise_interaction\", \"data\": {\"interactionType\": 3, \"questionType\": 1, \"questionId\": \"2_ReadIn\", \"learnToolsVersion\": \"0.3.4\", \"valueTowardsCompletion\": 0.0, \"failureMessage\": \"\", \"exceptionClass\": \"\", \"trace\": \"\", \"outcomeType\": 4}}, \"*\")"
      ],
      "text/plain": [
       "<IPython.core.display.Javascript object>"
      ]
     },
     "metadata": {},
     "output_type": "display_data"
    },
    {
     "data": {
      "text/markdown": [
       "<span style=\"color:#33cc99\">Solution:</span> \n",
       "```python\n",
       "police_killings = pd.read_csv(\"../input/fatal-police-shootings-in-the-us/PoliceKillingsUS.csv\", encoding='Windows-1252')\n",
       "\n",
       "```"
      ],
      "text/plain": [
       "Solution: \n",
       "```python\n",
       "police_killings = pd.read_csv(\"../input/fatal-police-shootings-in-the-us/PoliceKillingsUS.csv\", encoding='Windows-1252')\n",
       "\n",
       "```"
      ]
     },
     "metadata": {},
     "output_type": "display_data"
    }
   ],
   "source": [
    "# Lines below will give you a hint or solution code\n",
    "q2.hint()\n",
    "q2.solution()"
   ]
  },
  {
   "cell_type": "markdown",
   "id": "9b7e53cf",
   "metadata": {
    "papermill": {
     "duration": 0.006847,
     "end_time": "2022-07-27T16:31:14.268162",
     "exception": false,
     "start_time": "2022-07-27T16:31:14.261315",
     "status": "completed"
    },
    "tags": []
   },
   "source": [
    "# 3) Saving your files with UTF-8 encoding\n",
    "\n",
    "Save a version of the police killings dataset to CSV with UTF-8 encoding.  Your answer will be marked correct after saving this file.  \n",
    "\n",
    "Note: When using the `to_csv()` method, supply only the name of the file (e.g., `\"my_file.csv\"`).  This saves the file at the filepath `\"/kaggle/working/my_file.csv\"`."
   ]
  },
  {
   "cell_type": "code",
   "execution_count": 9,
   "id": "28495aad",
   "metadata": {
    "execution": {
     "iopub.execute_input": "2022-07-27T16:31:14.284412Z",
     "iopub.status.busy": "2022-07-27T16:31:14.283680Z",
     "iopub.status.idle": "2022-07-27T16:31:14.325864Z",
     "shell.execute_reply": "2022-07-27T16:31:14.324629Z"
    },
    "papermill": {
     "duration": 0.053108,
     "end_time": "2022-07-27T16:31:14.328349",
     "exception": false,
     "start_time": "2022-07-27T16:31:14.275241",
     "status": "completed"
    },
    "tags": []
   },
   "outputs": [
    {
     "data": {
      "application/javascript": [
       "parent.postMessage({\"jupyterEvent\": \"custom.exercise_interaction\", \"data\": {\"outcomeType\": 1, \"valueTowardsCompletion\": 0.3333333333333333, \"interactionType\": 1, \"questionType\": 2, \"questionId\": \"3_SaveCSV\", \"learnToolsVersion\": \"0.3.4\", \"failureMessage\": \"\", \"exceptionClass\": \"\", \"trace\": \"\"}}, \"*\")"
      ],
      "text/plain": [
       "<IPython.core.display.Javascript object>"
      ]
     },
     "metadata": {},
     "output_type": "display_data"
    },
    {
     "data": {
      "text/markdown": [
       "<span style=\"color:#33cc33\">Correct</span>"
      ],
      "text/plain": [
       "Correct"
      ]
     },
     "metadata": {},
     "output_type": "display_data"
    }
   ],
   "source": [
    "# TODO: Save the police killings dataset to CSV\n",
    "police_killings.to_csv(\"PoliceKillingsUS-utf8.csv\")\n",
    "# Check your answer\n",
    "q3.check()"
   ]
  },
  {
   "cell_type": "code",
   "execution_count": 10,
   "id": "9a534f62",
   "metadata": {
    "execution": {
     "iopub.execute_input": "2022-07-27T16:31:14.345131Z",
     "iopub.status.busy": "2022-07-27T16:31:14.344456Z",
     "iopub.status.idle": "2022-07-27T16:31:14.348299Z",
     "shell.execute_reply": "2022-07-27T16:31:14.347443Z"
    },
    "papermill": {
     "duration": 0.014594,
     "end_time": "2022-07-27T16:31:14.350280",
     "exception": false,
     "start_time": "2022-07-27T16:31:14.335686",
     "status": "completed"
    },
    "tags": []
   },
   "outputs": [],
   "source": [
    "# Lines below will give you a hint or solution code\n",
    "#q3.hint()\n",
    "#q3.solution()"
   ]
  },
  {
   "cell_type": "markdown",
   "id": "5d4f756c",
   "metadata": {
    "papermill": {
     "duration": 0.007004,
     "end_time": "2022-07-27T16:31:14.365385",
     "exception": false,
     "start_time": "2022-07-27T16:31:14.358381",
     "status": "completed"
    },
    "tags": []
   },
   "source": [
    "# (Optional) More practice\n",
    "\n",
    "Check out [this dataset of files in different character encodings](https://www.kaggle.com/rtatman/character-encoding-examples). Can you read in all the files with their original encodings and them save them out as UTF-8 files?\n",
    "\n",
    "If you have a file that's in UTF-8 but has just a couple of weird-looking characters in it, you can try out the [ftfy module](https://ftfy.readthedocs.io/en/latest/#) and see if it helps. \n",
    "\n",
    "# Keep going\n",
    "\n",
    "In the final lesson, learn how to [**clean up inconsistent text entries**](https://www.kaggle.com/alexisbcook/inconsistent-data-entry) in your dataset."
   ]
  },
  {
   "cell_type": "markdown",
   "id": "bc0a94c4",
   "metadata": {
    "papermill": {
     "duration": 0.007014,
     "end_time": "2022-07-27T16:31:14.379733",
     "exception": false,
     "start_time": "2022-07-27T16:31:14.372719",
     "status": "completed"
    },
    "tags": []
   },
   "source": [
    "---\n",
    "\n",
    "\n",
    "\n",
    "\n",
    "*Have questions or comments? Visit the [course discussion forum](https://www.kaggle.com/learn/data-cleaning/discussion) to chat with other learners.*"
   ]
  }
 ],
 "metadata": {
  "kernelspec": {
   "display_name": "Python 3",
   "language": "python",
   "name": "python3"
  },
  "language_info": {
   "codemirror_mode": {
    "name": "ipython",
    "version": 3
   },
   "file_extension": ".py",
   "mimetype": "text/x-python",
   "name": "python",
   "nbconvert_exporter": "python",
   "pygments_lexer": "ipython3",
   "version": "3.7.12"
  },
  "papermill": {
   "default_parameters": {},
   "duration": 12.969261,
   "end_time": "2022-07-27T16:31:15.008687",
   "environment_variables": {},
   "exception": null,
   "input_path": "__notebook__.ipynb",
   "output_path": "__notebook__.ipynb",
   "parameters": {},
   "start_time": "2022-07-27T16:31:02.039426",
   "version": "2.3.4"
  }
 },
 "nbformat": 4,
 "nbformat_minor": 5
}
